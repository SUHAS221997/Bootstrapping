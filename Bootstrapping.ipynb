{
  "nbformat": 4,
  "nbformat_minor": 0,
  "metadata": {
    "colab": {
      "provenance": []
    },
    "kernelspec": {
      "name": "python3",
      "display_name": "Python 3"
    },
    "language_info": {
      "name": "python"
    }
  },
  "cells": [
    {
      "cell_type": "markdown",
      "source": [
        "### **Generation of Bootstrap Samples**"
      ],
      "metadata": {
        "id": "zq_Bwb3vR5vA"
      }
    },
    {
      "cell_type": "code",
      "source": [
        "import random"
      ],
      "metadata": {
        "id": "Ts6lwtsvfg3a"
      },
      "execution_count": 16,
      "outputs": []
    },
    {
      "cell_type": "code",
      "source": [
        "data = [1, 2, 3, 4, 5]"
      ],
      "metadata": {
        "id": "IK7aXP-vKf0Z"
      },
      "execution_count": 17,
      "outputs": []
    },
    {
      "cell_type": "code",
      "source": [
        "# sample 5 data points for 10 times\n",
        "for i in range(100):\n",
        "  sample = random.choices(data, k = 5)\n",
        "  print(f\"Sample {i+1}: {sample}\")"
      ],
      "metadata": {
        "colab": {
          "base_uri": "https://localhost:8080/"
        },
        "id": "7JCeZgNwKhLr",
        "outputId": "ed19a75b-dfdf-4e89-85fc-30c6d4a1a16f"
      },
      "execution_count": 18,
      "outputs": [
        {
          "output_type": "stream",
          "name": "stdout",
          "text": [
            "Sample 1: [2, 3, 1, 4, 5]\n",
            "Sample 2: [3, 3, 4, 4, 1]\n",
            "Sample 3: [5, 5, 5, 3, 3]\n",
            "Sample 4: [4, 3, 5, 4, 2]\n",
            "Sample 5: [1, 3, 5, 5, 5]\n",
            "Sample 6: [1, 3, 3, 1, 4]\n",
            "Sample 7: [1, 5, 5, 3, 2]\n",
            "Sample 8: [4, 1, 2, 2, 4]\n",
            "Sample 9: [2, 5, 5, 3, 1]\n",
            "Sample 10: [1, 4, 4, 1, 3]\n",
            "Sample 11: [1, 3, 3, 1, 1]\n",
            "Sample 12: [3, 1, 5, 3, 4]\n",
            "Sample 13: [3, 1, 5, 3, 2]\n",
            "Sample 14: [1, 5, 5, 1, 5]\n",
            "Sample 15: [2, 1, 3, 2, 4]\n",
            "Sample 16: [3, 3, 2, 4, 1]\n",
            "Sample 17: [2, 2, 2, 2, 5]\n",
            "Sample 18: [4, 2, 3, 3, 4]\n",
            "Sample 19: [5, 5, 3, 1, 5]\n",
            "Sample 20: [1, 2, 2, 5, 5]\n",
            "Sample 21: [5, 5, 5, 2, 2]\n",
            "Sample 22: [1, 5, 5, 1, 4]\n",
            "Sample 23: [1, 4, 4, 4, 1]\n",
            "Sample 24: [2, 4, 4, 5, 3]\n",
            "Sample 25: [3, 2, 1, 2, 2]\n",
            "Sample 26: [5, 2, 5, 5, 4]\n",
            "Sample 27: [4, 3, 1, 2, 4]\n",
            "Sample 28: [4, 5, 3, 3, 1]\n",
            "Sample 29: [2, 4, 2, 4, 4]\n",
            "Sample 30: [2, 5, 3, 5, 3]\n",
            "Sample 31: [5, 5, 2, 3, 5]\n",
            "Sample 32: [3, 3, 3, 3, 5]\n",
            "Sample 33: [2, 3, 5, 4, 1]\n",
            "Sample 34: [3, 2, 3, 5, 4]\n",
            "Sample 35: [2, 4, 1, 3, 1]\n",
            "Sample 36: [5, 3, 4, 2, 3]\n",
            "Sample 37: [3, 5, 2, 1, 3]\n",
            "Sample 38: [5, 5, 2, 4, 3]\n",
            "Sample 39: [4, 2, 1, 3, 5]\n",
            "Sample 40: [3, 4, 1, 3, 5]\n",
            "Sample 41: [4, 5, 2, 1, 1]\n",
            "Sample 42: [2, 5, 2, 1, 4]\n",
            "Sample 43: [1, 1, 1, 3, 1]\n",
            "Sample 44: [4, 2, 3, 4, 3]\n",
            "Sample 45: [5, 3, 5, 1, 2]\n",
            "Sample 46: [3, 3, 3, 5, 1]\n",
            "Sample 47: [4, 3, 2, 3, 4]\n",
            "Sample 48: [5, 3, 4, 5, 2]\n",
            "Sample 49: [1, 3, 2, 5, 1]\n",
            "Sample 50: [4, 2, 1, 2, 1]\n",
            "Sample 51: [4, 4, 5, 5, 1]\n",
            "Sample 52: [2, 2, 2, 3, 2]\n",
            "Sample 53: [3, 5, 3, 1, 4]\n",
            "Sample 54: [1, 2, 3, 4, 4]\n",
            "Sample 55: [4, 2, 2, 3, 2]\n",
            "Sample 56: [2, 5, 2, 3, 5]\n",
            "Sample 57: [5, 2, 4, 1, 1]\n",
            "Sample 58: [4, 4, 1, 3, 4]\n",
            "Sample 59: [4, 5, 4, 2, 4]\n",
            "Sample 60: [1, 4, 3, 5, 3]\n",
            "Sample 61: [1, 3, 2, 2, 2]\n",
            "Sample 62: [2, 1, 5, 2, 2]\n",
            "Sample 63: [1, 4, 2, 2, 1]\n",
            "Sample 64: [5, 4, 2, 3, 2]\n",
            "Sample 65: [2, 3, 4, 4, 5]\n",
            "Sample 66: [3, 1, 2, 3, 1]\n",
            "Sample 67: [2, 1, 4, 3, 3]\n",
            "Sample 68: [4, 4, 4, 2, 2]\n",
            "Sample 69: [1, 1, 3, 5, 5]\n",
            "Sample 70: [5, 4, 1, 5, 2]\n",
            "Sample 71: [3, 3, 5, 1, 5]\n",
            "Sample 72: [4, 5, 3, 4, 2]\n",
            "Sample 73: [2, 1, 5, 5, 1]\n",
            "Sample 74: [1, 5, 3, 1, 3]\n",
            "Sample 75: [3, 2, 5, 4, 2]\n",
            "Sample 76: [3, 2, 4, 3, 2]\n",
            "Sample 77: [2, 2, 5, 5, 5]\n",
            "Sample 78: [5, 4, 5, 3, 3]\n",
            "Sample 79: [3, 2, 4, 3, 1]\n",
            "Sample 80: [5, 4, 3, 4, 1]\n",
            "Sample 81: [4, 2, 2, 3, 3]\n",
            "Sample 82: [3, 5, 5, 1, 2]\n",
            "Sample 83: [4, 1, 2, 4, 5]\n",
            "Sample 84: [4, 4, 3, 1, 4]\n",
            "Sample 85: [1, 1, 2, 1, 1]\n",
            "Sample 86: [1, 3, 4, 4, 2]\n",
            "Sample 87: [3, 5, 4, 2, 4]\n",
            "Sample 88: [1, 2, 5, 5, 3]\n",
            "Sample 89: [1, 1, 4, 2, 1]\n",
            "Sample 90: [5, 1, 5, 4, 5]\n",
            "Sample 91: [1, 3, 3, 4, 4]\n",
            "Sample 92: [3, 2, 2, 4, 2]\n",
            "Sample 93: [2, 2, 5, 4, 1]\n",
            "Sample 94: [2, 3, 1, 1, 1]\n",
            "Sample 95: [2, 4, 4, 4, 5]\n",
            "Sample 96: [2, 3, 5, 3, 2]\n",
            "Sample 97: [1, 2, 3, 1, 3]\n",
            "Sample 98: [1, 5, 1, 5, 2]\n",
            "Sample 99: [2, 2, 4, 2, 3]\n",
            "Sample 100: [4, 2, 1, 1, 4]\n"
          ]
        }
      ]
    },
    {
      "cell_type": "markdown",
      "source": [
        "### **Bootstrap Manual**"
      ],
      "metadata": {
        "id": "bXc4F9pMR_yB"
      }
    },
    {
      "cell_type": "code",
      "source": [
        "import numpy as np"
      ],
      "metadata": {
        "id": "sSTbrrqTSBaO"
      },
      "execution_count": 19,
      "outputs": []
    },
    {
      "cell_type": "code",
      "source": [
        "# Sample data\n",
        "data = np.array([1, 2, 3, 4, 5])"
      ],
      "metadata": {
        "id": "NQ3KDkbXSEGi"
      },
      "execution_count": 20,
      "outputs": []
    },
    {
      "cell_type": "code",
      "source": [
        "# num_samples\n",
        "bootstrap_samples = [np.random.choice(data, size = len(data), replace = True) for _ in range(100)]"
      ],
      "metadata": {
        "id": "Tb6V15oZSKLw"
      },
      "execution_count": 21,
      "outputs": []
    },
    {
      "cell_type": "code",
      "source": [
        "len(bootstrap_samples)"
      ],
      "metadata": {
        "colab": {
          "base_uri": "https://localhost:8080/"
        },
        "id": "AUuZIynYSXtT",
        "outputId": "12d5f1d4-de9e-477c-9384-cc3dc87929bf"
      },
      "execution_count": 22,
      "outputs": [
        {
          "output_type": "execute_result",
          "data": {
            "text/plain": [
              "100"
            ]
          },
          "metadata": {},
          "execution_count": 22
        }
      ]
    },
    {
      "cell_type": "code",
      "source": [
        "bootstrap_samples"
      ],
      "metadata": {
        "colab": {
          "base_uri": "https://localhost:8080/"
        },
        "id": "WN0fDYX4SZkM",
        "outputId": "85a8bd03-eed8-4398-9dc4-8b03b3855377"
      },
      "execution_count": 23,
      "outputs": [
        {
          "output_type": "execute_result",
          "data": {
            "text/plain": [
              "[array([2, 1, 2, 5, 5]),\n",
              " array([5, 2, 2, 4, 5]),\n",
              " array([2, 3, 4, 5, 1]),\n",
              " array([5, 1, 4, 5, 3]),\n",
              " array([3, 1, 4, 3, 2]),\n",
              " array([1, 4, 5, 1, 4]),\n",
              " array([3, 2, 1, 3, 1]),\n",
              " array([3, 1, 4, 5, 1]),\n",
              " array([2, 4, 2, 3, 5]),\n",
              " array([2, 5, 1, 2, 4]),\n",
              " array([1, 5, 3, 5, 5]),\n",
              " array([2, 4, 2, 4, 2]),\n",
              " array([1, 1, 1, 5, 4]),\n",
              " array([1, 1, 4, 2, 4]),\n",
              " array([4, 5, 3, 3, 4]),\n",
              " array([1, 4, 5, 4, 4]),\n",
              " array([4, 4, 3, 4, 3]),\n",
              " array([3, 4, 4, 3, 4]),\n",
              " array([2, 3, 3, 5, 2]),\n",
              " array([4, 2, 4, 1, 5]),\n",
              " array([3, 1, 4, 4, 2]),\n",
              " array([5, 5, 3, 4, 3]),\n",
              " array([2, 4, 1, 1, 2]),\n",
              " array([4, 3, 1, 3, 2]),\n",
              " array([2, 1, 4, 3, 1]),\n",
              " array([2, 2, 4, 5, 4]),\n",
              " array([4, 2, 1, 4, 5]),\n",
              " array([3, 2, 4, 3, 4]),\n",
              " array([5, 3, 5, 3, 4]),\n",
              " array([1, 2, 3, 3, 1]),\n",
              " array([4, 4, 5, 2, 1]),\n",
              " array([5, 4, 2, 2, 1]),\n",
              " array([1, 4, 3, 4, 3]),\n",
              " array([5, 1, 1, 3, 1]),\n",
              " array([3, 5, 3, 5, 1]),\n",
              " array([1, 4, 1, 3, 4]),\n",
              " array([2, 4, 2, 5, 4]),\n",
              " array([4, 2, 1, 1, 3]),\n",
              " array([2, 2, 3, 5, 5]),\n",
              " array([2, 1, 4, 5, 4]),\n",
              " array([1, 5, 4, 2, 1]),\n",
              " array([5, 1, 1, 4, 4]),\n",
              " array([1, 1, 2, 5, 2]),\n",
              " array([3, 5, 2, 5, 3]),\n",
              " array([2, 2, 1, 1, 1]),\n",
              " array([2, 4, 4, 5, 1]),\n",
              " array([3, 2, 1, 2, 2]),\n",
              " array([5, 4, 4, 1, 4]),\n",
              " array([5, 5, 3, 4, 4]),\n",
              " array([2, 4, 5, 1, 4]),\n",
              " array([4, 3, 3, 2, 1]),\n",
              " array([1, 1, 2, 5, 2]),\n",
              " array([3, 1, 2, 2, 3]),\n",
              " array([2, 3, 5, 3, 1]),\n",
              " array([2, 2, 4, 2, 2]),\n",
              " array([1, 3, 4, 4, 4]),\n",
              " array([4, 2, 1, 1, 5]),\n",
              " array([1, 4, 5, 4, 2]),\n",
              " array([3, 1, 4, 1, 1]),\n",
              " array([5, 2, 1, 4, 5]),\n",
              " array([5, 4, 4, 5, 2]),\n",
              " array([2, 3, 1, 4, 4]),\n",
              " array([2, 2, 2, 4, 1]),\n",
              " array([3, 5, 5, 5, 4]),\n",
              " array([2, 2, 3, 5, 2]),\n",
              " array([1, 3, 4, 3, 4]),\n",
              " array([5, 5, 5, 5, 2]),\n",
              " array([1, 3, 3, 3, 3]),\n",
              " array([1, 5, 5, 4, 3]),\n",
              " array([2, 5, 3, 4, 4]),\n",
              " array([4, 2, 3, 2, 4]),\n",
              " array([5, 5, 4, 5, 1]),\n",
              " array([1, 5, 3, 4, 1]),\n",
              " array([2, 2, 1, 4, 4]),\n",
              " array([3, 3, 1, 2, 3]),\n",
              " array([5, 1, 1, 5, 2]),\n",
              " array([4, 5, 4, 5, 2]),\n",
              " array([3, 3, 3, 2, 2]),\n",
              " array([2, 3, 2, 4, 1]),\n",
              " array([5, 5, 1, 5, 5]),\n",
              " array([2, 4, 1, 5, 3]),\n",
              " array([2, 4, 3, 4, 2]),\n",
              " array([2, 2, 5, 5, 5]),\n",
              " array([4, 4, 4, 4, 4]),\n",
              " array([1, 1, 4, 3, 1]),\n",
              " array([4, 5, 1, 1, 2]),\n",
              " array([2, 1, 4, 3, 3]),\n",
              " array([2, 1, 3, 5, 3]),\n",
              " array([1, 5, 4, 4, 3]),\n",
              " array([2, 5, 1, 5, 3]),\n",
              " array([4, 5, 5, 2, 4]),\n",
              " array([4, 5, 3, 2, 4]),\n",
              " array([3, 4, 3, 1, 5]),\n",
              " array([3, 5, 3, 1, 3]),\n",
              " array([3, 4, 4, 2, 5]),\n",
              " array([2, 3, 4, 3, 2]),\n",
              " array([3, 1, 5, 2, 2]),\n",
              " array([2, 2, 3, 5, 4]),\n",
              " array([1, 1, 2, 2, 1]),\n",
              " array([2, 2, 4, 5, 2])]"
            ]
          },
          "metadata": {},
          "execution_count": 23
        }
      ]
    },
    {
      "cell_type": "code",
      "source": [
        "# Calcuate the mean of samples\n",
        "bootstrap_mean = [np.mean(sample) for sample in bootstrap_samples]"
      ],
      "metadata": {
        "id": "cUGbp3X8Sakw"
      },
      "execution_count": 24,
      "outputs": []
    },
    {
      "cell_type": "code",
      "source": [
        "bootstrap_mean[:10]"
      ],
      "metadata": {
        "colab": {
          "base_uri": "https://localhost:8080/"
        },
        "id": "x4t1_NR_Sl1f",
        "outputId": "12edbf4e-3985-4978-b227-9b08c65533cc"
      },
      "execution_count": 25,
      "outputs": [
        {
          "output_type": "execute_result",
          "data": {
            "text/plain": [
              "[3.0, 3.6, 3.0, 3.6, 2.6, 3.0, 2.0, 2.8, 3.2, 2.8]"
            ]
          },
          "metadata": {},
          "execution_count": 25
        }
      ]
    },
    {
      "cell_type": "markdown",
      "source": [
        "### **Libraries**"
      ],
      "metadata": {
        "id": "hRZiUvAoS2OV"
      }
    },
    {
      "cell_type": "markdown",
      "source": [
        "**Configuration**"
      ],
      "metadata": {
        "id": "drfziEAta4Ob"
      }
    },
    {
      "cell_type": "code",
      "source": [
        "import warnings\n",
        "warnings.filterwarnings(\"ignore\")"
      ],
      "metadata": {
        "id": "qgzp2iJGa6FH"
      },
      "execution_count": 26,
      "outputs": []
    },
    {
      "cell_type": "markdown",
      "source": [
        "**Classical Libraries**"
      ],
      "metadata": {
        "id": "WcCGpJECauGs"
      }
    },
    {
      "cell_type": "code",
      "source": [
        "import numpy as np\n",
        "import pandas as pd"
      ],
      "metadata": {
        "id": "lFe8zwnsazZy"
      },
      "execution_count": 27,
      "outputs": []
    },
    {
      "cell_type": "markdown",
      "source": [
        "**Machine Learning Libraries**"
      ],
      "metadata": {
        "id": "_8V_AwD1awuT"
      }
    },
    {
      "cell_type": "code",
      "source": [
        "from sklearn.metrics import *\n",
        "from sklearn.tree import DecisionTreeClassifier\n",
        "from sklearn.ensemble import BaggingClassifier\n",
        "from sklearn.linear_model import LogisticRegression\n",
        "from sklearn.ensemble import RandomForestClassifier\n",
        "from sklearn.model_selection import train_test_split, cross_val_score"
      ],
      "metadata": {
        "id": "JKU8ZLFfSv2I"
      },
      "execution_count": 28,
      "outputs": []
    },
    {
      "cell_type": "markdown",
      "source": [
        "#**Mounting Google Drive**"
      ],
      "metadata": {
        "id": "qT9XgX3Rpau-"
      }
    },
    {
      "cell_type": "code",
      "source": [
        "from google.colab import drive\n",
        "drive.mount('/content/drive')"
      ],
      "metadata": {
        "colab": {
          "base_uri": "https://localhost:8080/"
        },
        "id": "k8KMYR94pf2D",
        "outputId": "7b53189e-430c-4ee3-8b9b-8a74853e2c4a"
      },
      "execution_count": 29,
      "outputs": [
        {
          "output_type": "stream",
          "name": "stdout",
          "text": [
            "Drive already mounted at /content/drive; to attempt to forcibly remount, call drive.mount(\"/content/drive\", force_remount=True).\n"
          ]
        }
      ]
    },
    {
      "cell_type": "code",
      "source": [
        "df = pd.read_csv(\"/content/drive/MyDrive/diabetes.csv\")"
      ],
      "metadata": {
        "id": "HjrpFz0pTG9l"
      },
      "execution_count": 30,
      "outputs": []
    },
    {
      "cell_type": "code",
      "source": [
        "df.head()"
      ],
      "metadata": {
        "colab": {
          "base_uri": "https://localhost:8080/",
          "height": 206
        },
        "id": "_SZgHofCTlYr",
        "outputId": "eee9de5c-bcd6-4bbc-fb21-ee169e9217b6"
      },
      "execution_count": 31,
      "outputs": [
        {
          "output_type": "execute_result",
          "data": {
            "text/plain": [
              "   Pregnancies  Glucose  BloodPressure  SkinThickness  Insulin   BMI  \\\n",
              "0            6      148             72             35        0  33.6   \n",
              "1            1       85             66             29        0  26.6   \n",
              "2            8      183             64              0        0  23.3   \n",
              "3            1       89             66             23       94  28.1   \n",
              "4            0      137             40             35      168  43.1   \n",
              "\n",
              "   DiabetesPedigreeFunction  Age  Outcome  \n",
              "0                     0.627   50        1  \n",
              "1                     0.351   31        0  \n",
              "2                     0.672   32        1  \n",
              "3                     0.167   21        0  \n",
              "4                     2.288   33        1  "
            ],
            "text/html": [
              "\n",
              "  <div id=\"df-50604bf2-3cb5-4c2b-93ad-0b221b35b219\" class=\"colab-df-container\">\n",
              "    <div>\n",
              "<style scoped>\n",
              "    .dataframe tbody tr th:only-of-type {\n",
              "        vertical-align: middle;\n",
              "    }\n",
              "\n",
              "    .dataframe tbody tr th {\n",
              "        vertical-align: top;\n",
              "    }\n",
              "\n",
              "    .dataframe thead th {\n",
              "        text-align: right;\n",
              "    }\n",
              "</style>\n",
              "<table border=\"1\" class=\"dataframe\">\n",
              "  <thead>\n",
              "    <tr style=\"text-align: right;\">\n",
              "      <th></th>\n",
              "      <th>Pregnancies</th>\n",
              "      <th>Glucose</th>\n",
              "      <th>BloodPressure</th>\n",
              "      <th>SkinThickness</th>\n",
              "      <th>Insulin</th>\n",
              "      <th>BMI</th>\n",
              "      <th>DiabetesPedigreeFunction</th>\n",
              "      <th>Age</th>\n",
              "      <th>Outcome</th>\n",
              "    </tr>\n",
              "  </thead>\n",
              "  <tbody>\n",
              "    <tr>\n",
              "      <th>0</th>\n",
              "      <td>6</td>\n",
              "      <td>148</td>\n",
              "      <td>72</td>\n",
              "      <td>35</td>\n",
              "      <td>0</td>\n",
              "      <td>33.6</td>\n",
              "      <td>0.627</td>\n",
              "      <td>50</td>\n",
              "      <td>1</td>\n",
              "    </tr>\n",
              "    <tr>\n",
              "      <th>1</th>\n",
              "      <td>1</td>\n",
              "      <td>85</td>\n",
              "      <td>66</td>\n",
              "      <td>29</td>\n",
              "      <td>0</td>\n",
              "      <td>26.6</td>\n",
              "      <td>0.351</td>\n",
              "      <td>31</td>\n",
              "      <td>0</td>\n",
              "    </tr>\n",
              "    <tr>\n",
              "      <th>2</th>\n",
              "      <td>8</td>\n",
              "      <td>183</td>\n",
              "      <td>64</td>\n",
              "      <td>0</td>\n",
              "      <td>0</td>\n",
              "      <td>23.3</td>\n",
              "      <td>0.672</td>\n",
              "      <td>32</td>\n",
              "      <td>1</td>\n",
              "    </tr>\n",
              "    <tr>\n",
              "      <th>3</th>\n",
              "      <td>1</td>\n",
              "      <td>89</td>\n",
              "      <td>66</td>\n",
              "      <td>23</td>\n",
              "      <td>94</td>\n",
              "      <td>28.1</td>\n",
              "      <td>0.167</td>\n",
              "      <td>21</td>\n",
              "      <td>0</td>\n",
              "    </tr>\n",
              "    <tr>\n",
              "      <th>4</th>\n",
              "      <td>0</td>\n",
              "      <td>137</td>\n",
              "      <td>40</td>\n",
              "      <td>35</td>\n",
              "      <td>168</td>\n",
              "      <td>43.1</td>\n",
              "      <td>2.288</td>\n",
              "      <td>33</td>\n",
              "      <td>1</td>\n",
              "    </tr>\n",
              "  </tbody>\n",
              "</table>\n",
              "</div>\n",
              "    <div class=\"colab-df-buttons\">\n",
              "\n",
              "  <div class=\"colab-df-container\">\n",
              "    <button class=\"colab-df-convert\" onclick=\"convertToInteractive('df-50604bf2-3cb5-4c2b-93ad-0b221b35b219')\"\n",
              "            title=\"Convert this dataframe to an interactive table.\"\n",
              "            style=\"display:none;\">\n",
              "\n",
              "  <svg xmlns=\"http://www.w3.org/2000/svg\" height=\"24px\" viewBox=\"0 -960 960 960\">\n",
              "    <path d=\"M120-120v-720h720v720H120Zm60-500h600v-160H180v160Zm220 220h160v-160H400v160Zm0 220h160v-160H400v160ZM180-400h160v-160H180v160Zm440 0h160v-160H620v160ZM180-180h160v-160H180v160Zm440 0h160v-160H620v160Z\"/>\n",
              "  </svg>\n",
              "    </button>\n",
              "\n",
              "  <style>\n",
              "    .colab-df-container {\n",
              "      display:flex;\n",
              "      gap: 12px;\n",
              "    }\n",
              "\n",
              "    .colab-df-convert {\n",
              "      background-color: #E8F0FE;\n",
              "      border: none;\n",
              "      border-radius: 50%;\n",
              "      cursor: pointer;\n",
              "      display: none;\n",
              "      fill: #1967D2;\n",
              "      height: 32px;\n",
              "      padding: 0 0 0 0;\n",
              "      width: 32px;\n",
              "    }\n",
              "\n",
              "    .colab-df-convert:hover {\n",
              "      background-color: #E2EBFA;\n",
              "      box-shadow: 0px 1px 2px rgba(60, 64, 67, 0.3), 0px 1px 3px 1px rgba(60, 64, 67, 0.15);\n",
              "      fill: #174EA6;\n",
              "    }\n",
              "\n",
              "    .colab-df-buttons div {\n",
              "      margin-bottom: 4px;\n",
              "    }\n",
              "\n",
              "    [theme=dark] .colab-df-convert {\n",
              "      background-color: #3B4455;\n",
              "      fill: #D2E3FC;\n",
              "    }\n",
              "\n",
              "    [theme=dark] .colab-df-convert:hover {\n",
              "      background-color: #434B5C;\n",
              "      box-shadow: 0px 1px 3px 1px rgba(0, 0, 0, 0.15);\n",
              "      filter: drop-shadow(0px 1px 2px rgba(0, 0, 0, 0.3));\n",
              "      fill: #FFFFFF;\n",
              "    }\n",
              "  </style>\n",
              "\n",
              "    <script>\n",
              "      const buttonEl =\n",
              "        document.querySelector('#df-50604bf2-3cb5-4c2b-93ad-0b221b35b219 button.colab-df-convert');\n",
              "      buttonEl.style.display =\n",
              "        google.colab.kernel.accessAllowed ? 'block' : 'none';\n",
              "\n",
              "      async function convertToInteractive(key) {\n",
              "        const element = document.querySelector('#df-50604bf2-3cb5-4c2b-93ad-0b221b35b219');\n",
              "        const dataTable =\n",
              "          await google.colab.kernel.invokeFunction('convertToInteractive',\n",
              "                                                    [key], {});\n",
              "        if (!dataTable) return;\n",
              "\n",
              "        const docLinkHtml = 'Like what you see? Visit the ' +\n",
              "          '<a target=\"_blank\" href=https://colab.research.google.com/notebooks/data_table.ipynb>data table notebook</a>'\n",
              "          + ' to learn more about interactive tables.';\n",
              "        element.innerHTML = '';\n",
              "        dataTable['output_type'] = 'display_data';\n",
              "        await google.colab.output.renderOutput(dataTable, element);\n",
              "        const docLink = document.createElement('div');\n",
              "        docLink.innerHTML = docLinkHtml;\n",
              "        element.appendChild(docLink);\n",
              "      }\n",
              "    </script>\n",
              "  </div>\n",
              "\n",
              "\n",
              "<div id=\"df-1387db09-9817-439c-aa89-cad737812da2\">\n",
              "  <button class=\"colab-df-quickchart\" onclick=\"quickchart('df-1387db09-9817-439c-aa89-cad737812da2')\"\n",
              "            title=\"Suggest charts\"\n",
              "            style=\"display:none;\">\n",
              "\n",
              "<svg xmlns=\"http://www.w3.org/2000/svg\" height=\"24px\"viewBox=\"0 0 24 24\"\n",
              "     width=\"24px\">\n",
              "    <g>\n",
              "        <path d=\"M19 3H5c-1.1 0-2 .9-2 2v14c0 1.1.9 2 2 2h14c1.1 0 2-.9 2-2V5c0-1.1-.9-2-2-2zM9 17H7v-7h2v7zm4 0h-2V7h2v10zm4 0h-2v-4h2v4z\"/>\n",
              "    </g>\n",
              "</svg>\n",
              "  </button>\n",
              "\n",
              "<style>\n",
              "  .colab-df-quickchart {\n",
              "      --bg-color: #E8F0FE;\n",
              "      --fill-color: #1967D2;\n",
              "      --hover-bg-color: #E2EBFA;\n",
              "      --hover-fill-color: #174EA6;\n",
              "      --disabled-fill-color: #AAA;\n",
              "      --disabled-bg-color: #DDD;\n",
              "  }\n",
              "\n",
              "  [theme=dark] .colab-df-quickchart {\n",
              "      --bg-color: #3B4455;\n",
              "      --fill-color: #D2E3FC;\n",
              "      --hover-bg-color: #434B5C;\n",
              "      --hover-fill-color: #FFFFFF;\n",
              "      --disabled-bg-color: #3B4455;\n",
              "      --disabled-fill-color: #666;\n",
              "  }\n",
              "\n",
              "  .colab-df-quickchart {\n",
              "    background-color: var(--bg-color);\n",
              "    border: none;\n",
              "    border-radius: 50%;\n",
              "    cursor: pointer;\n",
              "    display: none;\n",
              "    fill: var(--fill-color);\n",
              "    height: 32px;\n",
              "    padding: 0;\n",
              "    width: 32px;\n",
              "  }\n",
              "\n",
              "  .colab-df-quickchart:hover {\n",
              "    background-color: var(--hover-bg-color);\n",
              "    box-shadow: 0 1px 2px rgba(60, 64, 67, 0.3), 0 1px 3px 1px rgba(60, 64, 67, 0.15);\n",
              "    fill: var(--button-hover-fill-color);\n",
              "  }\n",
              "\n",
              "  .colab-df-quickchart-complete:disabled,\n",
              "  .colab-df-quickchart-complete:disabled:hover {\n",
              "    background-color: var(--disabled-bg-color);\n",
              "    fill: var(--disabled-fill-color);\n",
              "    box-shadow: none;\n",
              "  }\n",
              "\n",
              "  .colab-df-spinner {\n",
              "    border: 2px solid var(--fill-color);\n",
              "    border-color: transparent;\n",
              "    border-bottom-color: var(--fill-color);\n",
              "    animation:\n",
              "      spin 1s steps(1) infinite;\n",
              "  }\n",
              "\n",
              "  @keyframes spin {\n",
              "    0% {\n",
              "      border-color: transparent;\n",
              "      border-bottom-color: var(--fill-color);\n",
              "      border-left-color: var(--fill-color);\n",
              "    }\n",
              "    20% {\n",
              "      border-color: transparent;\n",
              "      border-left-color: var(--fill-color);\n",
              "      border-top-color: var(--fill-color);\n",
              "    }\n",
              "    30% {\n",
              "      border-color: transparent;\n",
              "      border-left-color: var(--fill-color);\n",
              "      border-top-color: var(--fill-color);\n",
              "      border-right-color: var(--fill-color);\n",
              "    }\n",
              "    40% {\n",
              "      border-color: transparent;\n",
              "      border-right-color: var(--fill-color);\n",
              "      border-top-color: var(--fill-color);\n",
              "    }\n",
              "    60% {\n",
              "      border-color: transparent;\n",
              "      border-right-color: var(--fill-color);\n",
              "    }\n",
              "    80% {\n",
              "      border-color: transparent;\n",
              "      border-right-color: var(--fill-color);\n",
              "      border-bottom-color: var(--fill-color);\n",
              "    }\n",
              "    90% {\n",
              "      border-color: transparent;\n",
              "      border-bottom-color: var(--fill-color);\n",
              "    }\n",
              "  }\n",
              "</style>\n",
              "\n",
              "  <script>\n",
              "    async function quickchart(key) {\n",
              "      const quickchartButtonEl =\n",
              "        document.querySelector('#' + key + ' button');\n",
              "      quickchartButtonEl.disabled = true;  // To prevent multiple clicks.\n",
              "      quickchartButtonEl.classList.add('colab-df-spinner');\n",
              "      try {\n",
              "        const charts = await google.colab.kernel.invokeFunction(\n",
              "            'suggestCharts', [key], {});\n",
              "      } catch (error) {\n",
              "        console.error('Error during call to suggestCharts:', error);\n",
              "      }\n",
              "      quickchartButtonEl.classList.remove('colab-df-spinner');\n",
              "      quickchartButtonEl.classList.add('colab-df-quickchart-complete');\n",
              "    }\n",
              "    (() => {\n",
              "      let quickchartButtonEl =\n",
              "        document.querySelector('#df-1387db09-9817-439c-aa89-cad737812da2 button');\n",
              "      quickchartButtonEl.style.display =\n",
              "        google.colab.kernel.accessAllowed ? 'block' : 'none';\n",
              "    })();\n",
              "  </script>\n",
              "</div>\n",
              "\n",
              "    </div>\n",
              "  </div>\n"
            ],
            "application/vnd.google.colaboratory.intrinsic+json": {
              "type": "dataframe",
              "variable_name": "df",
              "summary": "{\n  \"name\": \"df\",\n  \"rows\": 768,\n  \"fields\": [\n    {\n      \"column\": \"Pregnancies\",\n      \"properties\": {\n        \"dtype\": \"number\",\n        \"std\": 3,\n        \"min\": 0,\n        \"max\": 17,\n        \"num_unique_values\": 17,\n        \"samples\": [\n          6,\n          1,\n          3\n        ],\n        \"semantic_type\": \"\",\n        \"description\": \"\"\n      }\n    },\n    {\n      \"column\": \"Glucose\",\n      \"properties\": {\n        \"dtype\": \"number\",\n        \"std\": 31,\n        \"min\": 0,\n        \"max\": 199,\n        \"num_unique_values\": 136,\n        \"samples\": [\n          151,\n          101,\n          112\n        ],\n        \"semantic_type\": \"\",\n        \"description\": \"\"\n      }\n    },\n    {\n      \"column\": \"BloodPressure\",\n      \"properties\": {\n        \"dtype\": \"number\",\n        \"std\": 19,\n        \"min\": 0,\n        \"max\": 122,\n        \"num_unique_values\": 47,\n        \"samples\": [\n          86,\n          46,\n          85\n        ],\n        \"semantic_type\": \"\",\n        \"description\": \"\"\n      }\n    },\n    {\n      \"column\": \"SkinThickness\",\n      \"properties\": {\n        \"dtype\": \"number\",\n        \"std\": 15,\n        \"min\": 0,\n        \"max\": 99,\n        \"num_unique_values\": 51,\n        \"samples\": [\n          7,\n          12,\n          48\n        ],\n        \"semantic_type\": \"\",\n        \"description\": \"\"\n      }\n    },\n    {\n      \"column\": \"Insulin\",\n      \"properties\": {\n        \"dtype\": \"number\",\n        \"std\": 115,\n        \"min\": 0,\n        \"max\": 846,\n        \"num_unique_values\": 186,\n        \"samples\": [\n          52,\n          41,\n          183\n        ],\n        \"semantic_type\": \"\",\n        \"description\": \"\"\n      }\n    },\n    {\n      \"column\": \"BMI\",\n      \"properties\": {\n        \"dtype\": \"number\",\n        \"std\": 7.8841603203754405,\n        \"min\": 0.0,\n        \"max\": 67.1,\n        \"num_unique_values\": 248,\n        \"samples\": [\n          19.9,\n          31.0,\n          38.1\n        ],\n        \"semantic_type\": \"\",\n        \"description\": \"\"\n      }\n    },\n    {\n      \"column\": \"DiabetesPedigreeFunction\",\n      \"properties\": {\n        \"dtype\": \"number\",\n        \"std\": 0.33132859501277484,\n        \"min\": 0.078,\n        \"max\": 2.42,\n        \"num_unique_values\": 517,\n        \"samples\": [\n          1.731,\n          0.426,\n          0.138\n        ],\n        \"semantic_type\": \"\",\n        \"description\": \"\"\n      }\n    },\n    {\n      \"column\": \"Age\",\n      \"properties\": {\n        \"dtype\": \"number\",\n        \"std\": 11,\n        \"min\": 21,\n        \"max\": 81,\n        \"num_unique_values\": 52,\n        \"samples\": [\n          60,\n          47,\n          72\n        ],\n        \"semantic_type\": \"\",\n        \"description\": \"\"\n      }\n    },\n    {\n      \"column\": \"Outcome\",\n      \"properties\": {\n        \"dtype\": \"number\",\n        \"std\": 0,\n        \"min\": 0,\n        \"max\": 1,\n        \"num_unique_values\": 2,\n        \"samples\": [\n          0,\n          1\n        ],\n        \"semantic_type\": \"\",\n        \"description\": \"\"\n      }\n    }\n  ]\n}"
            }
          },
          "metadata": {},
          "execution_count": 31
        }
      ]
    },
    {
      "cell_type": "markdown",
      "source": [
        "#### **Feature Division and Split**"
      ],
      "metadata": {
        "id": "JsJpTKirTToT"
      }
    },
    {
      "cell_type": "code",
      "source": [
        "df.columns"
      ],
      "metadata": {
        "colab": {
          "base_uri": "https://localhost:8080/"
        },
        "id": "fr0GdxjaTgLM",
        "outputId": "4ec6e4b7-7240-43e7-ac33-a9769693b69a"
      },
      "execution_count": 32,
      "outputs": [
        {
          "output_type": "execute_result",
          "data": {
            "text/plain": [
              "Index(['Pregnancies', 'Glucose', 'BloodPressure', 'SkinThickness', 'Insulin',\n",
              "       'BMI', 'DiabetesPedigreeFunction', 'Age', 'Outcome'],\n",
              "      dtype='object')"
            ]
          },
          "metadata": {},
          "execution_count": 32
        }
      ]
    },
    {
      "cell_type": "code",
      "source": [
        "# Features\n",
        "X = df.drop(\"Outcome\", axis = 1)\n",
        "\n",
        "# Target\n",
        "y = df[\"Outcome\"]"
      ],
      "metadata": {
        "id": "rkoa33nqTSgM"
      },
      "execution_count": 33,
      "outputs": []
    },
    {
      "cell_type": "code",
      "source": [
        "x_train, x_test, y_train, y_test = train_test_split(X, y, test_size = 0.3, random_state = 23)"
      ],
      "metadata": {
        "id": "qMmR5s6STbtS"
      },
      "execution_count": 34,
      "outputs": []
    },
    {
      "cell_type": "markdown",
      "source": [
        "### **Manual Model**"
      ],
      "metadata": {
        "id": "3JqRNJWcT36p"
      }
    },
    {
      "cell_type": "code",
      "source": [
        "scores1 = cross_val_score(DecisionTreeClassifier(), X, y, cv = 5)"
      ],
      "metadata": {
        "id": "DCe55xZRTywR"
      },
      "execution_count": 35,
      "outputs": []
    },
    {
      "cell_type": "code",
      "source": [
        "scores1"
      ],
      "metadata": {
        "colab": {
          "base_uri": "https://localhost:8080/"
        },
        "id": "vwPZUBUXUBjx",
        "outputId": "7373cf4e-04b9-43b7-f012-b12f863571c7"
      },
      "execution_count": 36,
      "outputs": [
        {
          "output_type": "execute_result",
          "data": {
            "text/plain": [
              "array([0.68181818, 0.66883117, 0.69480519, 0.77777778, 0.7254902 ])"
            ]
          },
          "metadata": {},
          "execution_count": 36
        }
      ]
    },
    {
      "cell_type": "code",
      "source": [
        "scores1.mean()"
      ],
      "metadata": {
        "colab": {
          "base_uri": "https://localhost:8080/"
        },
        "id": "hf4_epVNUCX-",
        "outputId": "5e14a48a-aa1a-4b47-8b49-a73338e2c10e"
      },
      "execution_count": 37,
      "outputs": [
        {
          "output_type": "execute_result",
          "data": {
            "text/plain": [
              "0.7097445038621509"
            ]
          },
          "metadata": {},
          "execution_count": 37
        }
      ]
    },
    {
      "cell_type": "markdown",
      "source": [
        "#### **Bagging Classifier**"
      ],
      "metadata": {
        "id": "AQILzWzcUH_F"
      }
    },
    {
      "cell_type": "code",
      "source": [
        "model = BaggingClassifier(\n",
        "    estimator = DecisionTreeClassifier(), # Base learing model\n",
        "    n_estimators = 5)"
      ],
      "metadata": {
        "id": "u7yOc8HkUFw-"
      },
      "execution_count": 38,
      "outputs": []
    },
    {
      "cell_type": "code",
      "source": [
        "scores2 = cross_val_score(model, X, y, cv = 5)"
      ],
      "metadata": {
        "id": "ycawHViVUK8v"
      },
      "execution_count": 39,
      "outputs": []
    },
    {
      "cell_type": "code",
      "source": [
        "scores2"
      ],
      "metadata": {
        "colab": {
          "base_uri": "https://localhost:8080/"
        },
        "id": "UoxjAfjZUqRB",
        "outputId": "6d5fa71c-5cb5-41df-c023-af988bb596c1"
      },
      "execution_count": 40,
      "outputs": [
        {
          "output_type": "execute_result",
          "data": {
            "text/plain": [
              "array([0.71428571, 0.67532468, 0.70779221, 0.79084967, 0.73856209])"
            ]
          },
          "metadata": {},
          "execution_count": 40
        }
      ]
    },
    {
      "cell_type": "code",
      "source": [
        "scores2.mean()"
      ],
      "metadata": {
        "colab": {
          "base_uri": "https://localhost:8080/"
        },
        "id": "1amXUNIGUrNp",
        "outputId": "b4ad6e7d-7b5a-492f-ff50-1512f0de503d"
      },
      "execution_count": 41,
      "outputs": [
        {
          "output_type": "execute_result",
          "data": {
            "text/plain": [
              "0.725362872421696"
            ]
          },
          "metadata": {},
          "execution_count": 41
        }
      ]
    },
    {
      "cell_type": "markdown",
      "source": [
        "#### **Implement on Multiple Models**"
      ],
      "metadata": {
        "id": "f7StlwxKU04H"
      }
    },
    {
      "cell_type": "code",
      "source": [
        "models = {\n",
        "    \"Decision Tree\" : BaggingClassifier(n_estimators = 100, random_state = 42),\n",
        "    \"Logistic Regression\" : BaggingClassifier(LogisticRegression(), n_estimators = 100, random_state = 42),\n",
        "    \"Random Forest\" : RandomForestClassifier(n_estimators = 100, random_state = 42)\n",
        "}"
      ],
      "metadata": {
        "id": "DPhECMBmUup4"
      },
      "execution_count": 42,
      "outputs": []
    },
    {
      "cell_type": "code",
      "source": [
        "for name, model in models.items():\n",
        "  print(f\"Name of the model: {name}\")\n",
        "  model.fit(x_train, y_train)\n",
        "\n",
        "  pred = model.predict(x_test)\n",
        "\n",
        "  print(f\"Accuracy: {accuracy_score(y_test, pred)}\")\n",
        "  print(\"================================\")\n",
        "  print(classification_report(y_test, pred))"
      ],
      "metadata": {
        "colab": {
          "base_uri": "https://localhost:8080/"
        },
        "id": "PByxuG6mVjlI",
        "outputId": "2b6cf070-d49c-446b-92d6-d52f4d1d4668"
      },
      "execution_count": 43,
      "outputs": [
        {
          "output_type": "stream",
          "name": "stdout",
          "text": [
            "Name of the model: Decision Tree\n",
            "Accuracy: 0.7662337662337663\n",
            "================================\n",
            "              precision    recall  f1-score   support\n",
            "\n",
            "           0       0.81      0.84      0.82       148\n",
            "           1       0.69      0.64      0.66        83\n",
            "\n",
            "    accuracy                           0.77       231\n",
            "   macro avg       0.75      0.74      0.74       231\n",
            "weighted avg       0.76      0.77      0.76       231\n",
            "\n",
            "Name of the model: Logistic Regression\n",
            "Accuracy: 0.7705627705627706\n",
            "================================\n",
            "              precision    recall  f1-score   support\n",
            "\n",
            "           0       0.79      0.88      0.83       148\n",
            "           1       0.73      0.58      0.64        83\n",
            "\n",
            "    accuracy                           0.77       231\n",
            "   macro avg       0.76      0.73      0.74       231\n",
            "weighted avg       0.77      0.77      0.76       231\n",
            "\n",
            "Name of the model: Random Forest\n",
            "Accuracy: 0.7532467532467533\n",
            "================================\n",
            "              precision    recall  f1-score   support\n",
            "\n",
            "           0       0.80      0.82      0.81       148\n",
            "           1       0.67      0.63      0.65        83\n",
            "\n",
            "    accuracy                           0.75       231\n",
            "   macro avg       0.73      0.73      0.73       231\n",
            "weighted avg       0.75      0.75      0.75       231\n",
            "\n"
          ]
        }
      ]
    }
  ]
}